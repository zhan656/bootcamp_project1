{
 "cells": [
  {
   "cell_type": "code",
   "execution_count": 1,
   "metadata": {
    "collapsed": true
   },
   "outputs": [],
   "source": [
    "import plotly\n",
    "import plotly.plotly as py\n",
    "import pandas as pd\n",
    "from config import api_key\n",
    "import json\n",
    "from states_trans import states"
   ]
  },
  {
   "cell_type": "code",
   "execution_count": 2,
   "metadata": {},
   "outputs": [
    {
     "data": {
      "text/html": [
       "<div>\n",
       "<style>\n",
       "    .dataframe thead tr:only-child th {\n",
       "        text-align: right;\n",
       "    }\n",
       "\n",
       "    .dataframe thead th {\n",
       "        text-align: left;\n",
       "    }\n",
       "\n",
       "    .dataframe tbody tr th {\n",
       "        vertical-align: top;\n",
       "    }\n",
       "</style>\n",
       "<table border=\"1\" class=\"dataframe\">\n",
       "  <thead>\n",
       "    <tr style=\"text-align: right;\">\n",
       "      <th></th>\n",
       "      <th>flu_cases</th>\n",
       "      <th>flu_percent</th>\n",
       "      <th>state</th>\n",
       "      <th>vac_percent</th>\n",
       "      <th>vaccinations</th>\n",
       "      <th>week</th>\n",
       "    </tr>\n",
       "  </thead>\n",
       "  <tbody>\n",
       "    <tr>\n",
       "      <th>1347</th>\n",
       "      <td>0</td>\n",
       "      <td>0.0</td>\n",
       "      <td>Alabama</td>\n",
       "      <td>0.001551</td>\n",
       "      <td>543514.0</td>\n",
       "      <td>1.0</td>\n",
       "    </tr>\n",
       "    <tr>\n",
       "      <th>1200</th>\n",
       "      <td>0</td>\n",
       "      <td>0.0</td>\n",
       "      <td>Alaska</td>\n",
       "      <td>0.000646</td>\n",
       "      <td>75898.0</td>\n",
       "      <td>1.0</td>\n",
       "    </tr>\n",
       "    <tr>\n",
       "      <th>1550</th>\n",
       "      <td>0</td>\n",
       "      <td>0.0</td>\n",
       "      <td>Arizona</td>\n",
       "      <td>0.001086</td>\n",
       "      <td>609729.0</td>\n",
       "      <td>1.0</td>\n",
       "    </tr>\n",
       "    <tr>\n",
       "      <th>1449</th>\n",
       "      <td>0</td>\n",
       "      <td>0.0</td>\n",
       "      <td>Arkansas</td>\n",
       "      <td>0.000186</td>\n",
       "      <td>418858.0</td>\n",
       "      <td>1.0</td>\n",
       "    </tr>\n",
       "    <tr>\n",
       "      <th>1202</th>\n",
       "      <td>0</td>\n",
       "      <td>0.0</td>\n",
       "      <td>California</td>\n",
       "      <td>0.002571</td>\n",
       "      <td>2666921.0</td>\n",
       "      <td>1.0</td>\n",
       "    </tr>\n",
       "  </tbody>\n",
       "</table>\n",
       "</div>"
      ],
      "text/plain": [
       "      flu_cases  flu_percent       state  vac_percent  vaccinations  week\n",
       "1347          0          0.0     Alabama     0.001551      543514.0   1.0\n",
       "1200          0          0.0      Alaska     0.000646       75898.0   1.0\n",
       "1550          0          0.0     Arizona     0.001086      609729.0   1.0\n",
       "1449          0          0.0    Arkansas     0.000186      418858.0   1.0\n",
       "1202          0          0.0  California     0.002571     2666921.0   1.0"
      ]
     },
     "execution_count": 2,
     "metadata": {},
     "output_type": "execute_result"
    }
   ],
   "source": [
    "# Converting JSON to DataFrame sorted by 'Week' and 'state'\n",
    "with open('plot_state.json') as plot_state_file:\n",
    "   plot_state_dict = json.load(plot_state_file)\n",
    "df_state = pd.DataFrame(plot_state_dict)\n",
    "df_state = df_state.sort_values(by=['week', 'state'])\n",
    "#df_state = df_state.loc[df_state['state']!=\"District of Columbia\",:]\n",
    "df_state.head()"
   ]
  },
  {
   "cell_type": "code",
   "execution_count": 3,
   "metadata": {},
   "outputs": [],
   "source": [
    "#df_state.loc[df_state['state']==\"Alabama\",:]"
   ]
  },
  {
   "cell_type": "code",
   "execution_count": 4,
   "metadata": {
    "collapsed": true
   },
   "outputs": [],
   "source": [
    "# df_plot = df_state.loc[df_state['week']>=10,:]\n",
    "# df_plot = df_plot.loc[df_plot['week']<=25,:]\n",
    "# df_plot.head(10)"
   ]
  },
  {
   "cell_type": "code",
   "execution_count": 5,
   "metadata": {
    "collapsed": true
   },
   "outputs": [],
   "source": [
    "# df_plot.loc[df_plot['state']==\"Florida\",:].head(10)"
   ]
  },
  {
   "cell_type": "code",
   "execution_count": 6,
   "metadata": {},
   "outputs": [
    {
     "data": {
      "text/html": [
       "<div>\n",
       "<style>\n",
       "    .dataframe thead tr:only-child th {\n",
       "        text-align: right;\n",
       "    }\n",
       "\n",
       "    .dataframe thead th {\n",
       "        text-align: left;\n",
       "    }\n",
       "\n",
       "    .dataframe tbody tr th {\n",
       "        vertical-align: top;\n",
       "    }\n",
       "</style>\n",
       "<table border=\"1\" class=\"dataframe\">\n",
       "  <thead>\n",
       "    <tr style=\"text-align: right;\">\n",
       "      <th></th>\n",
       "      <th>flu_cases</th>\n",
       "      <th>flu_percent</th>\n",
       "    </tr>\n",
       "    <tr>\n",
       "      <th>state</th>\n",
       "      <th></th>\n",
       "      <th></th>\n",
       "    </tr>\n",
       "  </thead>\n",
       "  <tbody>\n",
       "    <tr>\n",
       "      <th>Alabama</th>\n",
       "      <td>55365</td>\n",
       "      <td>6.713758</td>\n",
       "    </tr>\n",
       "    <tr>\n",
       "      <th>Alaska</th>\n",
       "      <td>5429</td>\n",
       "      <td>0.658340</td>\n",
       "    </tr>\n",
       "    <tr>\n",
       "      <th>Arizona</th>\n",
       "      <td>16214</td>\n",
       "      <td>1.966168</td>\n",
       "    </tr>\n",
       "    <tr>\n",
       "      <th>Arkansas</th>\n",
       "      <td>5572</td>\n",
       "      <td>0.675681</td>\n",
       "    </tr>\n",
       "    <tr>\n",
       "      <th>California</th>\n",
       "      <td>34550</td>\n",
       "      <td>4.189656</td>\n",
       "    </tr>\n",
       "  </tbody>\n",
       "</table>\n",
       "</div>"
      ],
      "text/plain": [
       "            flu_cases  flu_percent\n",
       "state                             \n",
       "Alabama         55365     6.713758\n",
       "Alaska           5429     0.658340\n",
       "Arizona         16214     1.966168\n",
       "Arkansas         5572     0.675681\n",
       "California      34550     4.189656"
      ]
     },
     "execution_count": 6,
     "metadata": {},
     "output_type": "execute_result"
    }
   ],
   "source": [
    "# Sum up all flu cases and flu percent in each state\n",
    "df_grouped_flu = df_state.groupby(['state']).sum()\n",
    "#df_grouped_vac = \n",
    "df_grouped_flu = df_grouped_flu[['flu_cases','flu_percent']]\n",
    "df_grouped_flu.head()"
   ]
  },
  {
   "cell_type": "code",
   "execution_count": 7,
   "metadata": {},
   "outputs": [
    {
     "data": {
      "text/html": [
       "<div>\n",
       "<style>\n",
       "    .dataframe thead tr:only-child th {\n",
       "        text-align: right;\n",
       "    }\n",
       "\n",
       "    .dataframe thead th {\n",
       "        text-align: left;\n",
       "    }\n",
       "\n",
       "    .dataframe tbody tr th {\n",
       "        vertical-align: top;\n",
       "    }\n",
       "</style>\n",
       "<table border=\"1\" class=\"dataframe\">\n",
       "  <thead>\n",
       "    <tr style=\"text-align: right;\">\n",
       "      <th></th>\n",
       "      <th>state</th>\n",
       "      <th>vac_percent</th>\n",
       "      <th>vaccinations</th>\n",
       "    </tr>\n",
       "  </thead>\n",
       "  <tbody>\n",
       "    <tr>\n",
       "      <th>924</th>\n",
       "      <td>Alabama</td>\n",
       "      <td>0.391399</td>\n",
       "      <td>543514.0</td>\n",
       "    </tr>\n",
       "    <tr>\n",
       "      <th>925</th>\n",
       "      <td>Alaska</td>\n",
       "      <td>0.330615</td>\n",
       "      <td>75898.0</td>\n",
       "    </tr>\n",
       "    <tr>\n",
       "      <th>926</th>\n",
       "      <td>Arizona</td>\n",
       "      <td>0.455000</td>\n",
       "      <td>609729.0</td>\n",
       "    </tr>\n",
       "    <tr>\n",
       "      <th>927</th>\n",
       "      <td>Arkansas</td>\n",
       "      <td>0.436253</td>\n",
       "      <td>418858.0</td>\n",
       "    </tr>\n",
       "    <tr>\n",
       "      <th>928</th>\n",
       "      <td>California</td>\n",
       "      <td>0.414922</td>\n",
       "      <td>2666921.0</td>\n",
       "    </tr>\n",
       "  </tbody>\n",
       "</table>\n",
       "</div>"
      ],
      "text/plain": [
       "          state  vac_percent  vaccinations\n",
       "924     Alabama     0.391399      543514.0\n",
       "925      Alaska     0.330615       75898.0\n",
       "926     Arizona     0.455000      609729.0\n",
       "927    Arkansas     0.436253      418858.0\n",
       "928  California     0.414922     2666921.0"
      ]
     },
     "execution_count": 7,
     "metadata": {},
     "output_type": "execute_result"
    }
   ],
   "source": [
    "# Accumulated Vaccination Rate and Cases in each state\n",
    "df_grouped_vac = df_state.loc[df_state['week']==25,['state','vac_percent','vaccinations']]\n",
    "df_grouped_vac.head()"
   ]
  },
  {
   "cell_type": "code",
   "execution_count": 8,
   "metadata": {},
   "outputs": [
    {
     "data": {
      "text/html": [
       "<div>\n",
       "<style>\n",
       "    .dataframe thead tr:only-child th {\n",
       "        text-align: right;\n",
       "    }\n",
       "\n",
       "    .dataframe thead th {\n",
       "        text-align: left;\n",
       "    }\n",
       "\n",
       "    .dataframe tbody tr th {\n",
       "        vertical-align: top;\n",
       "    }\n",
       "</style>\n",
       "<table border=\"1\" class=\"dataframe\">\n",
       "  <thead>\n",
       "    <tr style=\"text-align: right;\">\n",
       "      <th></th>\n",
       "      <th>state</th>\n",
       "      <th>code</th>\n",
       "    </tr>\n",
       "  </thead>\n",
       "  <tbody>\n",
       "    <tr>\n",
       "      <th>0</th>\n",
       "      <td>Alabama</td>\n",
       "      <td>AL</td>\n",
       "    </tr>\n",
       "    <tr>\n",
       "      <th>1</th>\n",
       "      <td>Alaska</td>\n",
       "      <td>AK</td>\n",
       "    </tr>\n",
       "    <tr>\n",
       "      <th>2</th>\n",
       "      <td>Arizona</td>\n",
       "      <td>AZ</td>\n",
       "    </tr>\n",
       "    <tr>\n",
       "      <th>3</th>\n",
       "      <td>Arkansas</td>\n",
       "      <td>AR</td>\n",
       "    </tr>\n",
       "    <tr>\n",
       "      <th>4</th>\n",
       "      <td>California</td>\n",
       "      <td>CA</td>\n",
       "    </tr>\n",
       "  </tbody>\n",
       "</table>\n",
       "</div>"
      ],
      "text/plain": [
       "        state code\n",
       "0     Alabama   AL\n",
       "1      Alaska   AK\n",
       "2     Arizona   AZ\n",
       "3    Arkansas   AR\n",
       "4  California   CA"
      ]
     },
     "execution_count": 8,
     "metadata": {},
     "output_type": "execute_result"
    }
   ],
   "source": [
    "# Creat a State Abrreviation table\n",
    "\n",
    "#code = [states[i] for i in df_plot['state'].unique()]\n",
    "state_name_df = pd.DataFrame({\"state\":df_state['state'].unique()})\n",
    "state_name_df['code'] = [states[i] for i in state_name_df['state']]\n",
    "state_name_df.head()"
   ]
  },
  {
   "cell_type": "code",
   "execution_count": 9,
   "metadata": {
    "scrolled": true
   },
   "outputs": [
    {
     "data": {
      "text/html": [
       "<div>\n",
       "<style>\n",
       "    .dataframe thead tr:only-child th {\n",
       "        text-align: right;\n",
       "    }\n",
       "\n",
       "    .dataframe thead th {\n",
       "        text-align: left;\n",
       "    }\n",
       "\n",
       "    .dataframe tbody tr th {\n",
       "        vertical-align: top;\n",
       "    }\n",
       "</style>\n",
       "<table border=\"1\" class=\"dataframe\">\n",
       "  <thead>\n",
       "    <tr style=\"text-align: right;\">\n",
       "      <th></th>\n",
       "      <th>flu_cases</th>\n",
       "      <th>flu_percent</th>\n",
       "      <th>code</th>\n",
       "    </tr>\n",
       "    <tr>\n",
       "      <th>state</th>\n",
       "      <th></th>\n",
       "      <th></th>\n",
       "      <th></th>\n",
       "    </tr>\n",
       "  </thead>\n",
       "  <tbody>\n",
       "    <tr>\n",
       "      <th>South Dakota</th>\n",
       "      <td>7771</td>\n",
       "      <td>0.942339</td>\n",
       "      <td>SD</td>\n",
       "    </tr>\n",
       "    <tr>\n",
       "      <th>Tennessee</th>\n",
       "      <td>6350</td>\n",
       "      <td>0.770024</td>\n",
       "      <td>TN</td>\n",
       "    </tr>\n",
       "    <tr>\n",
       "      <th>Texas</th>\n",
       "      <td>54381</td>\n",
       "      <td>6.594434</td>\n",
       "      <td>TX</td>\n",
       "    </tr>\n",
       "    <tr>\n",
       "      <th>Utah</th>\n",
       "      <td>7126</td>\n",
       "      <td>0.864124</td>\n",
       "      <td>UT</td>\n",
       "    </tr>\n",
       "    <tr>\n",
       "      <th>Vermont</th>\n",
       "      <td>3913</td>\n",
       "      <td>0.474504</td>\n",
       "      <td>VT</td>\n",
       "    </tr>\n",
       "    <tr>\n",
       "      <th>Virginia</th>\n",
       "      <td>99177</td>\n",
       "      <td>12.026557</td>\n",
       "      <td>VA</td>\n",
       "    </tr>\n",
       "    <tr>\n",
       "      <th>Washington</th>\n",
       "      <td>3099</td>\n",
       "      <td>0.375796</td>\n",
       "      <td>WA</td>\n",
       "    </tr>\n",
       "    <tr>\n",
       "      <th>West Virginia</th>\n",
       "      <td>8111</td>\n",
       "      <td>0.983569</td>\n",
       "      <td>WV</td>\n",
       "    </tr>\n",
       "    <tr>\n",
       "      <th>Wisconsin</th>\n",
       "      <td>4125</td>\n",
       "      <td>0.500212</td>\n",
       "      <td>WI</td>\n",
       "    </tr>\n",
       "    <tr>\n",
       "      <th>Wyoming</th>\n",
       "      <td>3758</td>\n",
       "      <td>0.455709</td>\n",
       "      <td>WY</td>\n",
       "    </tr>\n",
       "  </tbody>\n",
       "</table>\n",
       "</div>"
      ],
      "text/plain": [
       "               flu_cases  flu_percent code\n",
       "state                                     \n",
       "South Dakota        7771     0.942339   SD\n",
       "Tennessee           6350     0.770024   TN\n",
       "Texas              54381     6.594434   TX\n",
       "Utah                7126     0.864124   UT\n",
       "Vermont             3913     0.474504   VT\n",
       "Virginia           99177    12.026557   VA\n",
       "Washington          3099     0.375796   WA\n",
       "West Virginia       8111     0.983569   WV\n",
       "Wisconsin           4125     0.500212   WI\n",
       "Wyoming             3758     0.455709   WY"
      ]
     },
     "execution_count": 9,
     "metadata": {},
     "output_type": "execute_result"
    }
   ],
   "source": [
    "# Add coresponding State code to grouped flu table\n",
    "#abbrv = list(state_name_df['code'])\n",
    "df_grouped_flu['code'] = list(state_name_df['code'])\n",
    "df_grouped_flu['code'] =df_grouped_flu['code'].astype(str)\n",
    "df_grouped_flu.tail(10)"
   ]
  },
  {
   "cell_type": "code",
   "execution_count": 10,
   "metadata": {},
   "outputs": [
    {
     "data": {
      "text/html": [
       "<div>\n",
       "<style>\n",
       "    .dataframe thead tr:only-child th {\n",
       "        text-align: right;\n",
       "    }\n",
       "\n",
       "    .dataframe thead th {\n",
       "        text-align: left;\n",
       "    }\n",
       "\n",
       "    .dataframe tbody tr th {\n",
       "        vertical-align: top;\n",
       "    }\n",
       "</style>\n",
       "<table border=\"1\" class=\"dataframe\">\n",
       "  <thead>\n",
       "    <tr style=\"text-align: right;\">\n",
       "      <th></th>\n",
       "      <th>state</th>\n",
       "      <th>vac_percent</th>\n",
       "      <th>vaccinations</th>\n",
       "      <th>code</th>\n",
       "    </tr>\n",
       "  </thead>\n",
       "  <tbody>\n",
       "    <tr>\n",
       "      <th>924</th>\n",
       "      <td>Alabama</td>\n",
       "      <td>0.391399</td>\n",
       "      <td>543514.0</td>\n",
       "      <td>AL</td>\n",
       "    </tr>\n",
       "    <tr>\n",
       "      <th>925</th>\n",
       "      <td>Alaska</td>\n",
       "      <td>0.330615</td>\n",
       "      <td>75898.0</td>\n",
       "      <td>AK</td>\n",
       "    </tr>\n",
       "    <tr>\n",
       "      <th>926</th>\n",
       "      <td>Arizona</td>\n",
       "      <td>0.455000</td>\n",
       "      <td>609729.0</td>\n",
       "      <td>AZ</td>\n",
       "    </tr>\n",
       "    <tr>\n",
       "      <th>927</th>\n",
       "      <td>Arkansas</td>\n",
       "      <td>0.436253</td>\n",
       "      <td>418858.0</td>\n",
       "      <td>AR</td>\n",
       "    </tr>\n",
       "    <tr>\n",
       "      <th>928</th>\n",
       "      <td>California</td>\n",
       "      <td>0.414922</td>\n",
       "      <td>2666921.0</td>\n",
       "      <td>CA</td>\n",
       "    </tr>\n",
       "    <tr>\n",
       "      <th>929</th>\n",
       "      <td>Colorado</td>\n",
       "      <td>0.477114</td>\n",
       "      <td>421880.0</td>\n",
       "      <td>CO</td>\n",
       "    </tr>\n",
       "    <tr>\n",
       "      <th>930</th>\n",
       "      <td>Connecticut</td>\n",
       "      <td>0.537575</td>\n",
       "      <td>381361.0</td>\n",
       "      <td>CT</td>\n",
       "    </tr>\n",
       "    <tr>\n",
       "      <th>931</th>\n",
       "      <td>Delaware</td>\n",
       "      <td>0.542855</td>\n",
       "      <td>150228.0</td>\n",
       "      <td>DE</td>\n",
       "    </tr>\n",
       "    <tr>\n",
       "      <th>932</th>\n",
       "      <td>Florida</td>\n",
       "      <td>0.429383</td>\n",
       "      <td>2057192.0</td>\n",
       "      <td>FL</td>\n",
       "    </tr>\n",
       "    <tr>\n",
       "      <th>933</th>\n",
       "      <td>Georgia</td>\n",
       "      <td>0.428448</td>\n",
       "      <td>846313.0</td>\n",
       "      <td>GA</td>\n",
       "    </tr>\n",
       "  </tbody>\n",
       "</table>\n",
       "</div>"
      ],
      "text/plain": [
       "           state  vac_percent  vaccinations code\n",
       "924      Alabama     0.391399      543514.0   AL\n",
       "925       Alaska     0.330615       75898.0   AK\n",
       "926      Arizona     0.455000      609729.0   AZ\n",
       "927     Arkansas     0.436253      418858.0   AR\n",
       "928   California     0.414922     2666921.0   CA\n",
       "929     Colorado     0.477114      421880.0   CO\n",
       "930  Connecticut     0.537575      381361.0   CT\n",
       "931     Delaware     0.542855      150228.0   DE\n",
       "932      Florida     0.429383     2057192.0   FL\n",
       "933      Georgia     0.428448      846313.0   GA"
      ]
     },
     "execution_count": 10,
     "metadata": {},
     "output_type": "execute_result"
    }
   ],
   "source": [
    "# Add coresponding State code to grouped flu table\n",
    "df_grouped_vac['code'] = list(state_name_df['code'])\n",
    "df_grouped_vac['code'] = df_grouped_vac['code'].astype(str)\n",
    "df_grouped_vac.head(10)"
   ]
  },
  {
   "cell_type": "code",
   "execution_count": 11,
   "metadata": {
    "collapsed": true
   },
   "outputs": [],
   "source": [
    "\n",
    "# API key to 'Plotly'\n",
    "\n",
    "plotly.tools.set_credentials_file(username='zhan656', api_key=api_key)"
   ]
  },
  {
   "cell_type": "code",
   "execution_count": 12,
   "metadata": {
    "collapsed": true
   },
   "outputs": [],
   "source": [
    "# Converting each Column name in 'df_grouped_flu' to tring type\n",
    "for col in df_grouped_flu.columns:\n",
    "    df_grouped_flu[col] = df_grouped_flu[col].astype(str) "
   ]
  },
  {
   "cell_type": "code",
   "execution_count": 13,
   "metadata": {
    "collapsed": true
   },
   "outputs": [],
   "source": [
    "# Converting each Column name in 'df_grouped_vac' to tring type\n",
    "for col in df_grouped_vac.columns:\n",
    "    df_grouped_vac[col] = df_grouped_vac[col].astype(str) "
   ]
  },
  {
   "cell_type": "code",
   "execution_count": 14,
   "metadata": {},
   "outputs": [],
   "source": [
    "# set color scale in heatmap\n",
    "scl_flu = [[0.0, 'rgb(255, 230, 230)'],[0.1, 'rgb(255, 179, 179)'],[0.2, 'rgb(255, 128, 128)'],\\\n",
    "           [0.3, 'rgb(255, 77, 77)'],[0.4, 'rgb(255, 26, 26)'],[0.5, 'rgb(230, 0, 0)'],\\\n",
    "            [0.6, 'rgb(179, 0, 0)'],[0.7, 'rgb(153, 0, 0)'],[0.8, 'rgb(128, 0, 0)'],[0.9, 'rgb(102, 0, 0)'],\\\n",
    "           [1.0, 'rgb(51, 0, 0)']]"
   ]
  },
  {
   "cell_type": "code",
   "execution_count": 15,
   "metadata": {
    "collapsed": true
   },
   "outputs": [],
   "source": [
    "scl_vac = [[0.0, 'rgb(230, 247, 255)'],[0.1, 'rgb(179, 231, 255)'],[0.2, 'rgb(128, 215, 255)'],\\\n",
    "           [0.3, 'rgb(77, 198, 255)'],[0.4, 'rgb(26, 182, 255)'],[0.5, 'rgb(0, 157, 230)'],\\\n",
    "            [0.6, 'rgb(0, 139, 204)'],[0.7, 'rgb(0, 122, 179)'], [0.8, 'rgb(0, 105, 153)'],[0.9, 'rgb(0, 87, 128)'],\\\n",
    "           [1.0, 'rgb(0, 70, 102)']]"
   ]
  },
  {
   "cell_type": "code",
   "execution_count": 16,
   "metadata": {},
   "outputs": [],
   "source": [
    "df_grouped_flu['flu_text'] = df_grouped_flu['code'] + '<br>' +\\\n",
    "                    \"Flu Percentage: \" + df_grouped_flu['flu_percent'] + '<br>' +\\\n",
    "                    \"Flu Cases: \" + df_grouped_flu['flu_cases']"
   ]
  },
  {
   "cell_type": "code",
   "execution_count": 17,
   "metadata": {
    "collapsed": true
   },
   "outputs": [],
   "source": [
    "df_grouped_vac['vac_text'] = df_grouped_vac['code'] + '<br>' +\\\n",
    "                    \"Vaccination Percentage: \" + df_grouped_vac['vac_percent'] + '<br>' +\\\n",
    "                    \"Vaccination Cases: \" + df_grouped_vac['vaccinations']"
   ]
  },
  {
   "cell_type": "code",
   "execution_count": 18,
   "metadata": {},
   "outputs": [],
   "source": [
    "data_flu = [ dict(\n",
    "        type='choropleth',\n",
    "        colorscale = scl_flu,\n",
    "        autocolorscale = False,\n",
    "        locations = df_grouped_flu['code'],\n",
    "        z = df_grouped_flu['flu_percent'].astype(float),\n",
    "        locationmode = 'USA-states',\n",
    "        text = df_grouped_flu['flu_text'],\n",
    "        marker = dict(\n",
    "            line = dict (\n",
    "                color = 'rgb(255,255,255)',\n",
    "                width = 2\n",
    "            ) ),\n",
    "        colorbar = dict(\n",
    "            title = \"Flu Percentage\")\n",
    "        ) ]"
   ]
  },
  {
   "cell_type": "code",
   "execution_count": 19,
   "metadata": {
    "collapsed": true
   },
   "outputs": [],
   "source": [
    "data_vac = [ dict(\n",
    "        type='choropleth',\n",
    "        colorscale = scl_vac,\n",
    "        autocolorscale = False,\n",
    "        locations = df_grouped_vac['code'],\n",
    "        z = df_grouped_vac['vac_percent'].astype(float),\n",
    "        locationmode = 'USA-states',\n",
    "        text = df_grouped_vac['vac_text'],\n",
    "        marker = dict(\n",
    "            line = dict (\n",
    "                color = 'rgb(255,255,255)',\n",
    "                width = 1\n",
    "            ) ),\n",
    "        colorbar = dict(\n",
    "            title = \"Vaccination Percentage\")\n",
    "        ) ]"
   ]
  },
  {
   "cell_type": "code",
   "execution_count": 20,
   "metadata": {
    "collapsed": true
   },
   "outputs": [],
   "source": [
    "layout_flu = dict(\n",
    "        title = 'Flu Percentage by State Heatmap',\n",
    "        geo = dict(\n",
    "            scope='usa',\n",
    "            projection=dict( type='albers usa' ),\n",
    "            showlakes = True,\n",
    "            lakecolor = 'rgb(255, 255, 255)'),\n",
    "             )\n",
    "    "
   ]
  },
  {
   "cell_type": "code",
   "execution_count": 21,
   "metadata": {
    "collapsed": true
   },
   "outputs": [],
   "source": [
    "layout_vac = dict(\n",
    "        title = 'Vaccination Percentage by State Heatmap',\n",
    "        geo = dict(\n",
    "            scope='usa',\n",
    "            projection=dict( type='albers usa' ),\n",
    "            showlakes = True,\n",
    "            lakecolor = 'rgb(255, 255, 255)'),\n",
    "             )\n",
    "    "
   ]
  },
  {
   "cell_type": "code",
   "execution_count": 22,
   "metadata": {
    "collapsed": true
   },
   "outputs": [],
   "source": [
    "fig_flu = dict( data=data_flu, layout=layout_flu )\n",
    "url = py.plot( fig_flu, filename='flu_map')"
   ]
  },
  {
   "cell_type": "code",
   "execution_count": 23,
   "metadata": {
    "collapsed": true
   },
   "outputs": [],
   "source": [
    "fig_vac = dict( data=data_vac, layout=layout_vac)\n",
    "url = py.plot( fig_vac, filename='vac_map')"
   ]
  }
 ],
 "metadata": {
  "kernelspec": {
   "display_name": "Python 3",
   "language": "python",
   "name": "python3"
  },
  "language_info": {
   "codemirror_mode": {
    "name": "ipython",
    "version": 3
   },
   "file_extension": ".py",
   "mimetype": "text/x-python",
   "name": "python",
   "nbconvert_exporter": "python",
   "pygments_lexer": "ipython3",
   "version": "3.6.3"
  }
 },
 "nbformat": 4,
 "nbformat_minor": 2
}
