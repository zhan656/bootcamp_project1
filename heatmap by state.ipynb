{
 "cells": [
  {
   "cell_type": "code",
   "execution_count": 3,
   "metadata": {
    "collapsed": true
   },
   "outputs": [],
   "source": [
    "import plotly\n",
    "import plotly.plotly as py\n",
    "import pandas as pd\n",
    "from config import api_key\n",
    "import json\n",
    "from states_trans import states"
   ]
  },
  {
   "cell_type": "code",
   "execution_count": 10,
   "metadata": {},
   "outputs": [
    {
     "data": {
      "text/html": [
       "<div>\n",
       "<style>\n",
       "    .dataframe thead tr:only-child th {\n",
       "        text-align: right;\n",
       "    }\n",
       "\n",
       "    .dataframe thead th {\n",
       "        text-align: left;\n",
       "    }\n",
       "\n",
       "    .dataframe tbody tr th {\n",
       "        vertical-align: top;\n",
       "    }\n",
       "</style>\n",
       "<table border=\"1\" class=\"dataframe\">\n",
       "  <thead>\n",
       "    <tr style=\"text-align: right;\">\n",
       "      <th></th>\n",
       "      <th>flu_cases</th>\n",
       "      <th>flu_percent</th>\n",
       "      <th>state</th>\n",
       "      <th>vac_percent</th>\n",
       "      <th>vaccinations</th>\n",
       "      <th>week</th>\n",
       "    </tr>\n",
       "  </thead>\n",
       "  <tbody>\n",
       "    <tr>\n",
       "      <th>1347</th>\n",
       "      <td>0</td>\n",
       "      <td>0.0</td>\n",
       "      <td>Alabama</td>\n",
       "      <td>0.001551</td>\n",
       "      <td>543514.0</td>\n",
       "      <td>1.0</td>\n",
       "    </tr>\n",
       "    <tr>\n",
       "      <th>1200</th>\n",
       "      <td>0</td>\n",
       "      <td>0.0</td>\n",
       "      <td>Alaska</td>\n",
       "      <td>0.000646</td>\n",
       "      <td>75898.0</td>\n",
       "      <td>1.0</td>\n",
       "    </tr>\n",
       "    <tr>\n",
       "      <th>1550</th>\n",
       "      <td>0</td>\n",
       "      <td>0.0</td>\n",
       "      <td>Arizona</td>\n",
       "      <td>0.001086</td>\n",
       "      <td>609729.0</td>\n",
       "      <td>1.0</td>\n",
       "    </tr>\n",
       "    <tr>\n",
       "      <th>1449</th>\n",
       "      <td>0</td>\n",
       "      <td>0.0</td>\n",
       "      <td>Arkansas</td>\n",
       "      <td>0.000186</td>\n",
       "      <td>418858.0</td>\n",
       "      <td>1.0</td>\n",
       "    </tr>\n",
       "    <tr>\n",
       "      <th>1202</th>\n",
       "      <td>0</td>\n",
       "      <td>0.0</td>\n",
       "      <td>California</td>\n",
       "      <td>0.002571</td>\n",
       "      <td>2666921.0</td>\n",
       "      <td>1.0</td>\n",
       "    </tr>\n",
       "  </tbody>\n",
       "</table>\n",
       "</div>"
      ],
      "text/plain": [
       "      flu_cases  flu_percent       state  vac_percent  vaccinations  week\n",
       "1347          0          0.0     Alabama     0.001551      543514.0   1.0\n",
       "1200          0          0.0      Alaska     0.000646       75898.0   1.0\n",
       "1550          0          0.0     Arizona     0.001086      609729.0   1.0\n",
       "1449          0          0.0    Arkansas     0.000186      418858.0   1.0\n",
       "1202          0          0.0  California     0.002571     2666921.0   1.0"
      ]
     },
     "execution_count": 10,
     "metadata": {},
     "output_type": "execute_result"
    }
   ],
   "source": [
    "# Converting JSON to DataFrame sorted by 'Week' and 'state'\n",
    "with open('plot_state.json') as plot_state_file:\n",
    "   plot_state_dict = json.load(plot_state_file)\n",
    "df_state = pd.DataFrame(plot_state_dict)\n",
    "df_state = df_state.sort_values(by=['week', 'state'])\n",
    "#df_state = df_state.loc[df_state['state']!=\"District of Columbia\",:]\n",
    "df_state.head()"
   ]
  },
  {
   "cell_type": "code",
   "execution_count": 24,
   "metadata": {
    "collapsed": true
   },
   "outputs": [],
   "source": [
    "#df_state.loc[df_state['state']==\"Florida\",:]"
   ]
  },
  {
   "cell_type": "code",
   "execution_count": 25,
   "metadata": {
    "collapsed": true
   },
   "outputs": [],
   "source": [
    "# df_plot = df_state.loc[df_state['week']>=10,:]\n",
    "# df_plot = df_plot.loc[df_plot['week']<=25,:]\n",
    "# df_plot.head(10)"
   ]
  },
  {
   "cell_type": "code",
   "execution_count": 28,
   "metadata": {
    "collapsed": true
   },
   "outputs": [],
   "source": [
    "# df_plot.loc[df_plot['state']==\"Florida\",:].head(10)"
   ]
  },
  {
   "cell_type": "code",
   "execution_count": 5,
   "metadata": {},
   "outputs": [
    {
     "data": {
      "text/html": [
       "<div>\n",
       "<style>\n",
       "    .dataframe thead tr:only-child th {\n",
       "        text-align: right;\n",
       "    }\n",
       "\n",
       "    .dataframe thead th {\n",
       "        text-align: left;\n",
       "    }\n",
       "\n",
       "    .dataframe tbody tr th {\n",
       "        vertical-align: top;\n",
       "    }\n",
       "</style>\n",
       "<table border=\"1\" class=\"dataframe\">\n",
       "  <thead>\n",
       "    <tr style=\"text-align: right;\">\n",
       "      <th></th>\n",
       "      <th>flu_cases</th>\n",
       "      <th>flu_percent</th>\n",
       "    </tr>\n",
       "    <tr>\n",
       "      <th>state</th>\n",
       "      <th></th>\n",
       "      <th></th>\n",
       "    </tr>\n",
       "  </thead>\n",
       "  <tbody>\n",
       "    <tr>\n",
       "      <th>Alabama</th>\n",
       "      <td>55365</td>\n",
       "      <td>6.713758</td>\n",
       "    </tr>\n",
       "    <tr>\n",
       "      <th>Alaska</th>\n",
       "      <td>5429</td>\n",
       "      <td>0.658340</td>\n",
       "    </tr>\n",
       "    <tr>\n",
       "      <th>Arizona</th>\n",
       "      <td>16214</td>\n",
       "      <td>1.966168</td>\n",
       "    </tr>\n",
       "    <tr>\n",
       "      <th>Arkansas</th>\n",
       "      <td>5572</td>\n",
       "      <td>0.675681</td>\n",
       "    </tr>\n",
       "    <tr>\n",
       "      <th>California</th>\n",
       "      <td>34550</td>\n",
       "      <td>4.189656</td>\n",
       "    </tr>\n",
       "  </tbody>\n",
       "</table>\n",
       "</div>"
      ],
      "text/plain": [
       "            flu_cases  flu_percent\n",
       "state                             \n",
       "Alabama         55365     6.713758\n",
       "Alaska           5429     0.658340\n",
       "Arizona         16214     1.966168\n",
       "Arkansas         5572     0.675681\n",
       "California      34550     4.189656"
      ]
     },
     "execution_count": 5,
     "metadata": {},
     "output_type": "execute_result"
    }
   ],
   "source": [
    "# Sum up all flu cases and flu percent in each state\n",
    "df_grouped_flu = df_state.groupby(['state']).sum()\n",
    "#df_grouped_vac = \n",
    "df_grouped_flu = df_grouped_flu[['flu_cases','flu_percent']]\n",
    "df_grouped_flu.head()"
   ]
  },
  {
   "cell_type": "code",
   "execution_count": null,
   "metadata": {
    "collapsed": true
   },
   "outputs": [],
   "source": [
    "print(df_state.loc[:,['state','week']]"
   ]
  },
  {
   "cell_type": "code",
   "execution_count": null,
   "metadata": {
    "collapsed": true
   },
   "outputs": [],
   "source": [
    "# Accumulated Vaccination Rate and Cases in each state\n",
    "df_grouped_vac = df_state.loc[df_state['week']==25,['vac_cases','vaccinations']]"
   ]
  },
  {
   "cell_type": "code",
   "execution_count": 6,
   "metadata": {},
   "outputs": [
    {
     "data": {
      "text/html": [
       "<div>\n",
       "<style>\n",
       "    .dataframe thead tr:only-child th {\n",
       "        text-align: right;\n",
       "    }\n",
       "\n",
       "    .dataframe thead th {\n",
       "        text-align: left;\n",
       "    }\n",
       "\n",
       "    .dataframe tbody tr th {\n",
       "        vertical-align: top;\n",
       "    }\n",
       "</style>\n",
       "<table border=\"1\" class=\"dataframe\">\n",
       "  <thead>\n",
       "    <tr style=\"text-align: right;\">\n",
       "      <th></th>\n",
       "      <th>state</th>\n",
       "      <th>code</th>\n",
       "    </tr>\n",
       "  </thead>\n",
       "  <tbody>\n",
       "    <tr>\n",
       "      <th>0</th>\n",
       "      <td>Alabama</td>\n",
       "      <td>AL</td>\n",
       "    </tr>\n",
       "    <tr>\n",
       "      <th>1</th>\n",
       "      <td>Alaska</td>\n",
       "      <td>AK</td>\n",
       "    </tr>\n",
       "    <tr>\n",
       "      <th>2</th>\n",
       "      <td>Arizona</td>\n",
       "      <td>AZ</td>\n",
       "    </tr>\n",
       "    <tr>\n",
       "      <th>3</th>\n",
       "      <td>Arkansas</td>\n",
       "      <td>AR</td>\n",
       "    </tr>\n",
       "    <tr>\n",
       "      <th>4</th>\n",
       "      <td>California</td>\n",
       "      <td>CA</td>\n",
       "    </tr>\n",
       "  </tbody>\n",
       "</table>\n",
       "</div>"
      ],
      "text/plain": [
       "        state code\n",
       "0     Alabama   AL\n",
       "1      Alaska   AK\n",
       "2     Arizona   AZ\n",
       "3    Arkansas   AR\n",
       "4  California   CA"
      ]
     },
     "execution_count": 6,
     "metadata": {},
     "output_type": "execute_result"
    }
   ],
   "source": [
    "# Creat a State Abrreviation table\n",
    "\n",
    "#code = [states[i] for i in df_plot['state'].unique()]\n",
    "state_name_df = pd.DataFrame({\"state\":df_state['state'].unique()})\n",
    "state_name_df['code'] = [states[i] for i in state_name_df['state']]\n",
    "state_name_df.head()"
   ]
  },
  {
   "cell_type": "code",
   "execution_count": 8,
   "metadata": {},
   "outputs": [
    {
     "data": {
      "text/html": [
       "<div>\n",
       "<style>\n",
       "    .dataframe thead tr:only-child th {\n",
       "        text-align: right;\n",
       "    }\n",
       "\n",
       "    .dataframe thead th {\n",
       "        text-align: left;\n",
       "    }\n",
       "\n",
       "    .dataframe tbody tr th {\n",
       "        vertical-align: top;\n",
       "    }\n",
       "</style>\n",
       "<table border=\"1\" class=\"dataframe\">\n",
       "  <thead>\n",
       "    <tr style=\"text-align: right;\">\n",
       "      <th></th>\n",
       "      <th>flu_cases</th>\n",
       "      <th>flu_percent</th>\n",
       "      <th>code</th>\n",
       "    </tr>\n",
       "    <tr>\n",
       "      <th>state</th>\n",
       "      <th></th>\n",
       "      <th></th>\n",
       "      <th></th>\n",
       "    </tr>\n",
       "  </thead>\n",
       "  <tbody>\n",
       "    <tr>\n",
       "      <th>Alabama</th>\n",
       "      <td>55365</td>\n",
       "      <td>6.713758</td>\n",
       "      <td>AL</td>\n",
       "    </tr>\n",
       "    <tr>\n",
       "      <th>Alaska</th>\n",
       "      <td>5429</td>\n",
       "      <td>0.658340</td>\n",
       "      <td>AK</td>\n",
       "    </tr>\n",
       "    <tr>\n",
       "      <th>Arizona</th>\n",
       "      <td>16214</td>\n",
       "      <td>1.966168</td>\n",
       "      <td>AZ</td>\n",
       "    </tr>\n",
       "    <tr>\n",
       "      <th>Arkansas</th>\n",
       "      <td>5572</td>\n",
       "      <td>0.675681</td>\n",
       "      <td>AR</td>\n",
       "    </tr>\n",
       "    <tr>\n",
       "      <th>California</th>\n",
       "      <td>34550</td>\n",
       "      <td>4.189656</td>\n",
       "      <td>CA</td>\n",
       "    </tr>\n",
       "    <tr>\n",
       "      <th>Colorado</th>\n",
       "      <td>10952</td>\n",
       "      <td>1.328078</td>\n",
       "      <td>CO</td>\n",
       "    </tr>\n",
       "    <tr>\n",
       "      <th>Connecticut</th>\n",
       "      <td>3435</td>\n",
       "      <td>0.416540</td>\n",
       "      <td>CT</td>\n",
       "    </tr>\n",
       "    <tr>\n",
       "      <th>Delaware</th>\n",
       "      <td>815</td>\n",
       "      <td>0.098830</td>\n",
       "      <td>DE</td>\n",
       "    </tr>\n",
       "    <tr>\n",
       "      <th>Florida</th>\n",
       "      <td>0</td>\n",
       "      <td>0.000000</td>\n",
       "      <td>FL</td>\n",
       "    </tr>\n",
       "    <tr>\n",
       "      <th>Georgia</th>\n",
       "      <td>73206</td>\n",
       "      <td>8.877221</td>\n",
       "      <td>GA</td>\n",
       "    </tr>\n",
       "  </tbody>\n",
       "</table>\n",
       "</div>"
      ],
      "text/plain": [
       "             flu_cases  flu_percent code\n",
       "state                                   \n",
       "Alabama          55365     6.713758   AL\n",
       "Alaska            5429     0.658340   AK\n",
       "Arizona          16214     1.966168   AZ\n",
       "Arkansas          5572     0.675681   AR\n",
       "California       34550     4.189656   CA\n",
       "Colorado         10952     1.328078   CO\n",
       "Connecticut       3435     0.416540   CT\n",
       "Delaware           815     0.098830   DE\n",
       "Florida              0     0.000000   FL\n",
       "Georgia          73206     8.877221   GA"
      ]
     },
     "execution_count": 8,
     "metadata": {},
     "output_type": "execute_result"
    }
   ],
   "source": [
    "# Add coresponding State code to grouped flu table\n",
    "#abbrv = list(state_name_df['code'])\n",
    "df_grouped_flu['code'] = list(state_name_df['code'])\n",
    "df_grouped_flu['code'] =df_grouped_flu['code'].astype(str)\n",
    "df_grouped_flu.head(10)"
   ]
  },
  {
   "cell_type": "code",
   "execution_count": 36,
   "metadata": {
    "collapsed": true
   },
   "outputs": [],
   "source": [
    "\n",
    "# API key to 'Plotly'\n",
    "\n",
    "plotly.tools.set_credentials_file(username='zhan656', api_key=api_key)"
   ]
  },
  {
   "cell_type": "code",
   "execution_count": 10,
   "metadata": {
    "collapsed": true
   },
   "outputs": [],
   "source": [
    "# Converting each Column name to tring type\n",
    "for col in df_grouped_flu.columns:\n",
    "    df_grouped_flu[col] = df_grouped_flu[col].astype(str) "
   ]
  },
  {
   "cell_type": "code",
   "execution_count": 11,
   "metadata": {
    "collapsed": true
   },
   "outputs": [],
   "source": [
    "# set color scale in heatmap\n",
    "scl = [[0.0, 'rgb(230, 243, 255)'],[0.2, 'rgb(179, 218, 255)'],[0.4, 'rgb(102, 181, 255)'],\\\n",
    "            [0.6, 'rgb(26, 144, 255)'],[0.8, 'rgb(0, 105, 204)'],[1.0, 'rgb(0, 66, 128)']]"
   ]
  },
  {
   "cell_type": "code",
   "execution_count": 12,
   "metadata": {
    "collapsed": true
   },
   "outputs": [],
   "source": [
    "# df['text'] = df['state'] + '<br>' +\\\n",
    "#     'Beef '+df['beef']+' Dairy '+df['dairy']+'<br>'+\\\n",
    "#     'Fruits '+df['total fruits']+' Veggies ' + df['total veggies']+'<br>'+\\\n",
    "#     'Wheat '+df['wheat']+' Corn '+df['corn']"
   ]
  },
  {
   "cell_type": "code",
   "execution_count": 13,
   "metadata": {
    "collapsed": true
   },
   "outputs": [],
   "source": [
    "df_grouped['flu_text'] = df_grouped['code'] + '<br>' +\\\n",
    "                    \"Flu Percentage\" + df_grouped['flu_percent'] + '<br>' +\\\n",
    "                    \"Flu Cases\" + df_grouped['flu_cases']"
   ]
  },
  {
   "cell_type": "code",
   "execution_count": 17,
   "metadata": {
    "collapsed": true
   },
   "outputs": [],
   "source": [
    "data = [ dict(\n",
    "        type='choropleth',\n",
    "        colorscale = scl,\n",
    "        autocolorscale = False,\n",
    "        locations = df_grouped['code'],\n",
    "        z = df_grouped['flu_percent'].astype(float),\n",
    "        locationmode = 'USA-states',\n",
    "        text = df_grouped['flu_text'],\n",
    "        marker = dict(\n",
    "            line = dict (\n",
    "                color = 'rgb(255,255,255)',\n",
    "                width = 2\n",
    "            ) ),\n",
    "        colorbar = dict(\n",
    "            title = \"Flu Percentage\")\n",
    "        ) ]"
   ]
  },
  {
   "cell_type": "code",
   "execution_count": 18,
   "metadata": {
    "collapsed": true
   },
   "outputs": [],
   "source": [
    "layout = dict(\n",
    "        title = 'Flu Percentage by State Heatmap',\n",
    "        geo = dict(\n",
    "            scope='usa',\n",
    "            projection=dict( type='albers usa' ),\n",
    "            showlakes = True,\n",
    "            lakecolor = 'rgb(255, 255, 255)'),\n",
    "             )\n",
    "    "
   ]
  },
  {
   "cell_type": "code",
   "execution_count": 19,
   "metadata": {
    "collapsed": true
   },
   "outputs": [],
   "source": [
    "fig = dict( data=data, layout=layout )\n",
    "url = py.plot( fig, filename='d3-cloropleth-map')"
   ]
  }
 ],
 "metadata": {
  "kernelspec": {
   "display_name": "Python 3",
   "language": "python",
   "name": "python3"
  },
  "language_info": {
   "codemirror_mode": {
    "name": "ipython",
    "version": 3
   },
   "file_extension": ".py",
   "mimetype": "text/x-python",
   "name": "python",
   "nbconvert_exporter": "python",
   "pygments_lexer": "ipython3",
   "version": "3.6.3"
  }
 },
 "nbformat": 4,
 "nbformat_minor": 2
}
