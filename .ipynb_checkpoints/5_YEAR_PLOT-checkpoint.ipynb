{
 "cells": [
  {
   "cell_type": "code",
   "execution_count": 1,
   "metadata": {
    "collapsed": true
   },
   "outputs": [],
   "source": [
    "import plotly\n",
    "import plotly.plotly as py\n",
    "import pandas as pd\n",
    "from config import api_key\n",
    "import json\n",
    "from states_trans import states"
   ]
  },
  {
   "cell_type": "code",
   "execution_count": null,
   "metadata": {
    "collapsed": true
   },
   "outputs": [],
   "source": [
    "# Converting JSON to DataFrame sorted by 'Week' and 'state'\n",
    "with open('plot_state_5_years.json') as plot_state_file:\n",
    "   plot_state_dict = json.load(plot_state_file)\n",
    "df_state = pd.DataFrame(plot_state_dict)\n",
    "df_state = df_state.sort_values(by=['year','week', 'state'])\n",
    "#df_state = df_state.loc[df_state['state']!=\"District of Columbia\",:]\n",
    "df_state.head()"
   ]
  }
 ],
 "metadata": {
  "kernelspec": {
   "display_name": "Python 3",
   "language": "python",
   "name": "python3"
  },
  "language_info": {
   "codemirror_mode": {
    "name": "ipython",
    "version": 3
   },
   "file_extension": ".py",
   "mimetype": "text/x-python",
   "name": "python",
   "nbconvert_exporter": "python",
   "pygments_lexer": "ipython3",
   "version": "3.6.3"
  }
 },
 "nbformat": 4,
 "nbformat_minor": 2
}
